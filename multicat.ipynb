{
  "cells": [
    {
      "cell_type": "code",
      "execution_count": null,
      "metadata": {
        "id": "lmbPtQl8d7wG"
      },
      "outputs": [],
      "source": [
        "#hide\n",
        "!pip install -Uqq fastbook\n",
        "import fastbook\n",
        "fastbook.setup_book()"
      ]
    },
    {
      "cell_type": "code",
      "execution_count": null,
      "metadata": {
        "id": "CpA1wGi3d7wK"
      },
      "outputs": [],
      "source": [
        "#hide\n",
        "from fastbook import *"
      ]
    },
    {
      "cell_type": "raw",
      "metadata": {
        "id": "fbfyFGCtd7wL"
      },
      "source": [
        "[[chapter_multicat]]"
      ]
    },
    {
      "cell_type": "markdown",
      "metadata": {
        "id": "skP3j6zGd7wL"
      },
      "source": [
        "# Other Computer Vision Problems"
      ]
    },
    {
      "cell_type": "markdown",
      "metadata": {
        "id": "P0vsogx5d7wP"
      },
      "source": [
        "In the previous session we have learned some important practical techniques for training models in practice. Considerations like selecting learning rates and the number of epochs are very important to getting good results.\n",
        "\n",
        "In this session we are going to look at two other types of computer vision problems: multi-label classification and regression. The first one is when you want to predict more than one label per image (or sometimes none at all), and the second is when your labels are one or several numbers—a quantity instead of a category.\n",
        "\n",
        "In the process will study more deeply the output activations, targets, and loss functions in deep learning models."
      ]
    },
    {
      "cell_type": "markdown",
      "metadata": {
        "id": "Fhm5G7xPd7wQ"
      },
      "source": [
        "## Multi-Label Classification"
      ]
    },
    {
      "cell_type": "markdown",
      "metadata": {
        "id": "WEXrEILid7wR"
      },
      "source": [
        "Multi-label classification refers to the problem of identifying the categories of objects in images that may not contain exactly one type of object. There may be more than one kind of object, or there may be no objects at all in the classes that you are looking for.\n",
        "\n",
        "In practice, we have not seen many examples of people training multi-label classifiers for this purpose—but we very often see both users and developers complaining about this problem. It appears that this simple solution is not at all widely understood or appreciated! Because in practice it is probably more common to have some images with zero matches or more than one match, we should probably expect in practice that multi-label classifiers are more widely applicable than single-label classifiers.\n",
        "\n",
        "First, let's see what a multi-label dataset looks like, then we'll explain how to get it ready for our model. You'll see that the architecture of the model does not change from the last session; only the loss function does. Let's start with the data."
      ]
    },
    {
      "cell_type": "markdown",
      "metadata": {
        "id": "cQM9sVyfd7wT"
      },
      "source": [
        "### The Data"
      ]
    },
    {
      "cell_type": "markdown",
      "metadata": {
        "id": "VJpYV1B9d7wU"
      },
      "source": [
        "For our example we are going to use the PASCAL dataset, which can have more than one kind of classified object per image.\n",
        "\n",
        "We begin by downloading and extracting the dataset as per usual:"
      ]
    },
    {
      "cell_type": "code",
      "execution_count": null,
      "metadata": {
        "id": "lK0gMXkbd7wW"
      },
      "outputs": [],
      "source": [
        "from fastai.vision.all import *\n",
        "path = untar_data(URLs.PASCAL_2007)"
      ]
    },
    {
      "cell_type": "markdown",
      "metadata": {
        "id": "lVLGq-Dmd7wW"
      },
      "source": [
        "This dataset is different from the ones we have seen before, in that it is not structured by filename or folder but instead comes with a CSV (comma-separated values) file telling us what labels to use for each image. We can inspect the CSV file by reading it into a Pandas DataFrame:"
      ]
    },
    {
      "cell_type": "code",
      "execution_count": null,
      "metadata": {
        "id": "2sHl5SFdd7wY",
        "outputId": "8a7f5ec0-aa91-4736-91cf-60116c65672b"
      },
      "outputs": [
        {
          "data": {
            "text/html": [
              "<div>\n",
              "<style scoped>\n",
              "    .dataframe tbody tr th:only-of-type {\n",
              "        vertical-align: middle;\n",
              "    }\n",
              "\n",
              "    .dataframe tbody tr th {\n",
              "        vertical-align: top;\n",
              "    }\n",
              "\n",
              "    .dataframe thead th {\n",
              "        text-align: right;\n",
              "    }\n",
              "</style>\n",
              "<table border=\"1\" class=\"dataframe\">\n",
              "  <thead>\n",
              "    <tr style=\"text-align: right;\">\n",
              "      <th></th>\n",
              "      <th>fname</th>\n",
              "      <th>labels</th>\n",
              "      <th>is_valid</th>\n",
              "    </tr>\n",
              "  </thead>\n",
              "  <tbody>\n",
              "    <tr>\n",
              "      <th>0</th>\n",
              "      <td>000005.jpg</td>\n",
              "      <td>chair</td>\n",
              "      <td>True</td>\n",
              "    </tr>\n",
              "    <tr>\n",
              "      <th>1</th>\n",
              "      <td>000007.jpg</td>\n",
              "      <td>car</td>\n",
              "      <td>True</td>\n",
              "    </tr>\n",
              "    <tr>\n",
              "      <th>2</th>\n",
              "      <td>000009.jpg</td>\n",
              "      <td>horse person</td>\n",
              "      <td>True</td>\n",
              "    </tr>\n",
              "    <tr>\n",
              "      <th>3</th>\n",
              "      <td>000012.jpg</td>\n",
              "      <td>car</td>\n",
              "      <td>False</td>\n",
              "    </tr>\n",
              "    <tr>\n",
              "      <th>4</th>\n",
              "      <td>000016.jpg</td>\n",
              "      <td>bicycle</td>\n",
              "      <td>True</td>\n",
              "    </tr>\n",
              "  </tbody>\n",
              "</table>\n",
              "</div>"
            ],
            "text/plain": [
              "        fname        labels  is_valid\n",
              "0  000005.jpg         chair      True\n",
              "1  000007.jpg           car      True\n",
              "2  000009.jpg  horse person      True\n",
              "3  000012.jpg           car     False\n",
              "4  000016.jpg       bicycle      True"
            ]
          },
          "execution_count": null,
          "metadata": {},
          "output_type": "execute_result"
        }
      ],
      "source": [
        "df = pd.read_csv(path/'train.csv')\n",
        "df.head()"
      ]
    },
    {
      "cell_type": "markdown",
      "metadata": {
        "id": "SCeVVi8Od7wZ"
      },
      "source": [
        "As you can see, the list of categories in each image is shown as a space-delimited string."
      ]
    },
    {
      "cell_type": "markdown",
      "metadata": {
        "id": "QxRF_cGSd7wa"
      },
      "source": [
        "### Sidebar: Pandas and DataFrames"
      ]
    },
    {
      "cell_type": "markdown",
      "metadata": {
        "id": "i8EJgS8Nd7wb"
      },
      "source": [
        "No, it’s not actually a panda! *Pandas* is a Python library that is used to manipulate and analyze tabular and time series data. The main class is `DataFrame`, which represents a table of rows and columns. You can get a DataFrame from a CSV file, a database table, Python dictionaries, and many other sources. In Jupyter, a DataFrame is output as a formatted table, as shown here.\n",
        "\n",
        "You can access rows and columns of a DataFrame with the `iloc` property, as if it were a matrix:"
      ]
    },
    {
      "cell_type": "code",
      "execution_count": null,
      "metadata": {
        "id": "xMkthZUQd7wb",
        "outputId": "60798a47-c377-4093-e3e9-5ac8cc680ac2"
      },
      "outputs": [
        {
          "data": {
            "text/plain": [
              "0       000005.jpg\n",
              "1       000007.jpg\n",
              "2       000009.jpg\n",
              "3       000012.jpg\n",
              "4       000016.jpg\n",
              "           ...    \n",
              "5006    009954.jpg\n",
              "5007    009955.jpg\n",
              "5008    009958.jpg\n",
              "5009    009959.jpg\n",
              "5010    009961.jpg\n",
              "Name: fname, Length: 5011, dtype: object"
            ]
          },
          "execution_count": null,
          "metadata": {},
          "output_type": "execute_result"
        }
      ],
      "source": [
        "df.iloc[:,0]"
      ]
    },
    {
      "cell_type": "code",
      "execution_count": null,
      "metadata": {
        "id": "qcQKj-utd7wc",
        "outputId": "79935fd4-4b4e-4639-9ba2-ca06ab82eb44"
      },
      "outputs": [
        {
          "data": {
            "text/plain": [
              "fname       000005.jpg\n",
              "labels           chair\n",
              "is_valid          True\n",
              "Name: 0, dtype: object"
            ]
          },
          "execution_count": null,
          "metadata": {},
          "output_type": "execute_result"
        }
      ],
      "source": [
        "df.iloc[0,:]\n",
        "# Trailing :s are always optional (in numpy, pytorch, pandas, etc.),\n",
        "#   so this is equivalent:\n",
        "df.iloc[0]"
      ]
    },
    {
      "cell_type": "markdown",
      "metadata": {
        "id": "C9FZG9GXd7wd"
      },
      "source": [
        "You can also grab a column by name by indexing into a DataFrame directly:"
      ]
    },
    {
      "cell_type": "code",
      "execution_count": null,
      "metadata": {
        "id": "GugtZL3Yd7wd",
        "outputId": "6fb61a83-58bb-4908-9ef5-6eb7bcd5cddf"
      },
      "outputs": [
        {
          "data": {
            "text/plain": [
              "0       000005.jpg\n",
              "1       000007.jpg\n",
              "2       000009.jpg\n",
              "3       000012.jpg\n",
              "4       000016.jpg\n",
              "           ...    \n",
              "5006    009954.jpg\n",
              "5007    009955.jpg\n",
              "5008    009958.jpg\n",
              "5009    009959.jpg\n",
              "5010    009961.jpg\n",
              "Name: fname, Length: 5011, dtype: object"
            ]
          },
          "execution_count": null,
          "metadata": {},
          "output_type": "execute_result"
        }
      ],
      "source": [
        "df['fname']"
      ]
    },
    {
      "cell_type": "markdown",
      "metadata": {
        "id": "OJ6ja2Qjd7wd"
      },
      "source": [
        "You can create new columns and do calculations using columns:"
      ]
    },
    {
      "cell_type": "code",
      "execution_count": null,
      "metadata": {
        "id": "GxbVqv14d7we",
        "outputId": "fb98114b-416e-4df0-b388-2e03bc56f6ef"
      },
      "outputs": [
        {
          "data": {
            "text/html": [
              "<div>\n",
              "<style scoped>\n",
              "    .dataframe tbody tr th:only-of-type {\n",
              "        vertical-align: middle;\n",
              "    }\n",
              "\n",
              "    .dataframe tbody tr th {\n",
              "        vertical-align: top;\n",
              "    }\n",
              "\n",
              "    .dataframe thead th {\n",
              "        text-align: right;\n",
              "    }\n",
              "</style>\n",
              "<table border=\"1\" class=\"dataframe\">\n",
              "  <thead>\n",
              "    <tr style=\"text-align: right;\">\n",
              "      <th></th>\n",
              "      <th>a</th>\n",
              "      <th>b</th>\n",
              "    </tr>\n",
              "  </thead>\n",
              "  <tbody>\n",
              "    <tr>\n",
              "      <th>0</th>\n",
              "      <td>1</td>\n",
              "      <td>3</td>\n",
              "    </tr>\n",
              "    <tr>\n",
              "      <th>1</th>\n",
              "      <td>2</td>\n",
              "      <td>4</td>\n",
              "    </tr>\n",
              "  </tbody>\n",
              "</table>\n",
              "</div>"
            ],
            "text/plain": [
              "   a  b\n",
              "0  1  3\n",
              "1  2  4"
            ]
          },
          "execution_count": null,
          "metadata": {},
          "output_type": "execute_result"
        }
      ],
      "source": [
        "tmp_df = pd.DataFrame({'a':[1,2], 'b':[3,4]})\n",
        "tmp_df"
      ]
    },
    {
      "cell_type": "code",
      "execution_count": null,
      "metadata": {
        "id": "DKIUIOW7d7wf",
        "outputId": "fd0d5a4a-4482-4e38-b6c4-5022e95c0b7e"
      },
      "outputs": [
        {
          "data": {
            "text/html": [
              "<div>\n",
              "<style scoped>\n",
              "    .dataframe tbody tr th:only-of-type {\n",
              "        vertical-align: middle;\n",
              "    }\n",
              "\n",
              "    .dataframe tbody tr th {\n",
              "        vertical-align: top;\n",
              "    }\n",
              "\n",
              "    .dataframe thead th {\n",
              "        text-align: right;\n",
              "    }\n",
              "</style>\n",
              "<table border=\"1\" class=\"dataframe\">\n",
              "  <thead>\n",
              "    <tr style=\"text-align: right;\">\n",
              "      <th></th>\n",
              "      <th>a</th>\n",
              "      <th>b</th>\n",
              "      <th>c</th>\n",
              "    </tr>\n",
              "  </thead>\n",
              "  <tbody>\n",
              "    <tr>\n",
              "      <th>0</th>\n",
              "      <td>1</td>\n",
              "      <td>3</td>\n",
              "      <td>4</td>\n",
              "    </tr>\n",
              "    <tr>\n",
              "      <th>1</th>\n",
              "      <td>2</td>\n",
              "      <td>4</td>\n",
              "      <td>6</td>\n",
              "    </tr>\n",
              "  </tbody>\n",
              "</table>\n",
              "</div>"
            ],
            "text/plain": [
              "   a  b  c\n",
              "0  1  3  4\n",
              "1  2  4  6"
            ]
          },
          "execution_count": null,
          "metadata": {},
          "output_type": "execute_result"
        }
      ],
      "source": [
        "tmp_df['c'] = tmp_df['a']+tmp_df['b']\n",
        "tmp_df"
      ]
    },
    {
      "cell_type": "markdown",
      "metadata": {
        "id": "g1LujCtcd7wf"
      },
      "source": [
        "Pandas is a fast and flexible library, and an important part of every data scientist’s Python toolbox. Unfortunately, its API can be rather confusing and surprising, so it takes a while to get familiar with it. If you haven’t used Pandas before, we’d suggest going through a tutorial; we are particularly fond of the book [*Python for Data Analysis*](http://shop.oreilly.com/product/0636920023784.do) by Wes McKinney, the creator of Pandas (O'Reilly). It also covers other important libraries like `matplotlib` and `numpy`. We will try to briefly describe Pandas functionality we use as we come across it, but will not go into the level of detail of McKinney’s book."
      ]
    },
    {
      "cell_type": "markdown",
      "metadata": {
        "id": "GPX7I64gd7wg"
      },
      "source": [
        "### End sidebar"
      ]
    },
    {
      "cell_type": "markdown",
      "metadata": {
        "id": "4wZ8lhjXd7wg"
      },
      "source": [
        "Now that we have seen what the data looks like, let's make it ready for model training."
      ]
    },
    {
      "cell_type": "markdown",
      "metadata": {
        "id": "FN63sSf-d7wg"
      },
      "source": [
        "### Constructing a DataBlock"
      ]
    },
    {
      "cell_type": "markdown",
      "metadata": {
        "id": "uwSto1Tud7wh"
      },
      "source": [
        "How do we convert from a `DataFrame` object to a `DataLoaders` object? We generally suggest using the data block API for creating a `DataLoaders` object, where possible, since it provides a good mix of flexibility and simplicity. Here we will show you the steps that we take to use the data blocks API to construct a `DataLoaders` object in practice, using this dataset as an example.\n",
        "\n",
        "As we have seen, PyTorch and fastai have two main classes for representing and accessing a training set or validation set:\n",
        "\n",
        "- `Dataset`:: A collection that returns a tuple of your independent and dependent variable for a single item\n",
        "- `DataLoader`:: An iterator that provides a stream of mini-batches, where each mini-batch is a tuple of a batch of independent variables and a batch of dependent variables"
      ]
    },
    {
      "cell_type": "markdown",
      "metadata": {
        "id": "u5SLHywJd7wh"
      },
      "source": [
        "On top of these, fastai provides two classes for bringing your training and validation sets together:\n",
        "\n",
        "- `Datasets`:: An object that contains a training `Dataset` and a validation `Dataset`\n",
        "- `DataLoaders`:: An object that contains a training `DataLoader` and a validation `DataLoader`\n",
        "\n",
        "Since a `DataLoader` builds on top of a `Dataset` and adds additional functionality to it (collating multiple items into a mini-batch), it’s often easiest to start by creating and testing `Datasets`, and then look at `DataLoaders` after that’s working."
      ]
    },
    {
      "cell_type": "markdown",
      "metadata": {
        "id": "-QoAhluAd7wh"
      },
      "source": [
        "When we create a `DataBlock`, we build up gradually, step by step, and use the notebook to check our data along the way. This is a great way to make sure that you maintain momentum as you are coding, and that you keep an eye out for any problems. It’s easy to debug, because you know that if a problem arises, it is in the line of code you just typed!\n",
        "\n",
        "Let’s start with the simplest case, which is a data block created with no parameters:"
      ]
    },
    {
      "cell_type": "code",
      "execution_count": null,
      "metadata": {
        "id": "GE1OpxPad7wi"
      },
      "outputs": [],
      "source": [
        "dblock = DataBlock()"
      ]
    },
    {
      "cell_type": "markdown",
      "metadata": {
        "id": "4JpiKlBdd7wi"
      },
      "source": [
        "We can create a `Datasets` object from this. The only thing needed is a source—in this case, our DataFrame:"
      ]
    },
    {
      "cell_type": "code",
      "execution_count": null,
      "metadata": {
        "id": "7bEW-BLOd7wi"
      },
      "outputs": [],
      "source": [
        "dsets = dblock.datasets(df)"
      ]
    },
    {
      "cell_type": "markdown",
      "metadata": {
        "id": "s5OSkxQdd7wj"
      },
      "source": [
        "This contains a `train` and a `valid` dataset, which we can index into:"
      ]
    },
    {
      "cell_type": "code",
      "execution_count": null,
      "metadata": {
        "id": "9mqRwBv_d7wj",
        "outputId": "5a60a3f6-995a-4ba9-87e3-ba5a9cd2298a"
      },
      "outputs": [
        {
          "data": {
            "text/plain": [
              "(4009, 1002)"
            ]
          },
          "execution_count": null,
          "metadata": {},
          "output_type": "execute_result"
        }
      ],
      "source": [
        "len(dsets.train),len(dsets.valid)"
      ]
    },
    {
      "cell_type": "code",
      "execution_count": null,
      "metadata": {
        "id": "In-XVvOVd7wj",
        "outputId": "f2863322-6224-4d65-dae3-dfa83db2e946"
      },
      "outputs": [
        {
          "data": {
            "text/plain": [
              "(fname       008663.jpg\n",
              " labels      car person\n",
              " is_valid         False\n",
              " Name: 4346, dtype: object,\n",
              " fname       008663.jpg\n",
              " labels      car person\n",
              " is_valid         False\n",
              " Name: 4346, dtype: object)"
            ]
          },
          "execution_count": null,
          "metadata": {},
          "output_type": "execute_result"
        }
      ],
      "source": [
        "x,y = dsets.train[0]\n",
        "x,y"
      ]
    },
    {
      "cell_type": "markdown",
      "metadata": {
        "id": "gg55tTaud7wk"
      },
      "source": [
        "As you can see, this simply returns a row of the DataFrame, twice. This is because by default, the data block assumes we have two things: input and target. We are going to need to grab the appropriate fields from the DataFrame, which we can do by passing `get_x` and `get_y` functions:"
      ]
    },
    {
      "cell_type": "code",
      "execution_count": null,
      "metadata": {
        "id": "lAv2kP-rd7wk",
        "outputId": "c642054c-6fe2-4d01-a46b-7990b8323729"
      },
      "outputs": [
        {
          "data": {
            "text/plain": [
              "'008663.jpg'"
            ]
          },
          "execution_count": null,
          "metadata": {},
          "output_type": "execute_result"
        }
      ],
      "source": [
        "x['fname']"
      ]
    },
    {
      "cell_type": "code",
      "execution_count": null,
      "metadata": {
        "id": "uXLe7jEmd7wk",
        "outputId": "67a8225b-2dd4-4158-b627-329f1c616fc4"
      },
      "outputs": [
        {
          "data": {
            "text/plain": [
              "('005620.jpg', 'aeroplane')"
            ]
          },
          "execution_count": null,
          "metadata": {},
          "output_type": "execute_result"
        }
      ],
      "source": [
        "dblock = DataBlock(get_x = lambda r: r['fname'], get_y = lambda r: r['labels'])\n",
        "dsets = dblock.datasets(df)\n",
        "dsets.train[0]"
      ]
    },
    {
      "cell_type": "markdown",
      "metadata": {
        "id": "uPkkob0Rd7wl"
      },
      "source": [
        "As you can see, rather than defining a function in the usual way, we are using Python’s `lambda` keyword. This is just a shortcut for defining and then referring to a function. The following more verbose approach is identical:"
      ]
    },
    {
      "cell_type": "code",
      "execution_count": null,
      "metadata": {
        "id": "I5i-4S7md7wl",
        "outputId": "fae3c1dc-eed2-433c-e59f-3e9fa06c8c83"
      },
      "outputs": [
        {
          "data": {
            "text/plain": [
              "('002549.jpg', 'tvmonitor')"
            ]
          },
          "execution_count": null,
          "metadata": {},
          "output_type": "execute_result"
        }
      ],
      "source": [
        "def get_x(r): return r['fname']\n",
        "def get_y(r): return r['labels']\n",
        "dblock = DataBlock(get_x = get_x, get_y = get_y)\n",
        "dsets = dblock.datasets(df)\n",
        "dsets.train[0]"
      ]
    },
    {
      "cell_type": "markdown",
      "metadata": {
        "id": "QE9zwDgld7wl"
      },
      "source": [
        "Lambda functions are great for quickly iterating, but they are not compatible with serialization, so we advise you to use the more verbose approach if you want to export your `Learner` after training (lambdas are fine if you are just experimenting)."
      ]
    },
    {
      "cell_type": "markdown",
      "metadata": {
        "id": "L-A1da25d7wm"
      },
      "source": [
        "We can see that the independent variable will need to be converted into a complete path, so that we can open it as an image, and the dependent variable will need to be split on the space character (which is the default for Python’s `split` function) so that it becomes a list:"
      ]
    },
    {
      "cell_type": "code",
      "execution_count": null,
      "metadata": {
        "id": "5dNvV1W0d7wm",
        "outputId": "a85502de-bccd-40bf-c7fd-d65ac3e1e40b"
      },
      "outputs": [
        {
          "data": {
            "text/plain": [
              "(Path('/home/jhoward/.fastai/data/pascal_2007/train/002844.jpg'), ['train'])"
            ]
          },
          "execution_count": null,
          "metadata": {},
          "output_type": "execute_result"
        }
      ],
      "source": [
        "def get_x(r): return path/'train'/r['fname']\n",
        "def get_y(r): return r['labels'].split(' ')\n",
        "dblock = DataBlock(get_x = get_x, get_y = get_y)\n",
        "dsets = dblock.datasets(df)\n",
        "dsets.train[0]"
      ]
    },
    {
      "cell_type": "markdown",
      "metadata": {
        "id": "xrsbixlwd7wm"
      },
      "source": [
        "To actually open the image and do the conversion to tensors, we will need to use a set of transforms; block types will provide us with those. We can use the same block types that we have used previously, with one exception: the `ImageBlock` will work fine again, because we have a path that points to a valid image, but the `CategoryBlock` is not going to work. The problem is that block returns a single integer, but we need to be able to have multiple labels for each item. To solve this, we use a `MultiCategoryBlock`. This type of block expects to receive a list of strings, as we have in this case, so let’s test it out:"
      ]
    },
    {
      "cell_type": "code",
      "execution_count": null,
      "metadata": {
        "id": "0JGI6aFwd7wn",
        "outputId": "2bf18410-0cb2-4e64-f536-095fd856b463"
      },
      "outputs": [
        {
          "data": {
            "text/plain": [
              "(PILImage mode=RGB size=500x375,\n",
              " TensorMultiCategory([0., 0., 0., 0., 0., 0., 0., 0., 0., 0., 0., 1., 0., 0., 0., 0., 0., 0., 0., 0.]))"
            ]
          },
          "execution_count": null,
          "metadata": {},
          "output_type": "execute_result"
        }
      ],
      "source": [
        "dblock = DataBlock(blocks=(ImageBlock, MultiCategoryBlock),\n",
        "                   get_x = get_x, get_y = get_y)\n",
        "dsets = dblock.datasets(df)\n",
        "dsets.train[0]"
      ]
    },
    {
      "cell_type": "markdown",
      "metadata": {
        "id": "AzSNCV-hd7wn"
      },
      "source": [
        "As you can see, our list of categories is not encoded in the same way that it was for the regular `CategoryBlock`. In that case, we had a single integer representing which category was present, based on its location in our vocab. In this case, however, we instead have a list of zeros, with a one in any position where that category is present. For example, if there is a one in the second and fourth positions, then that means that vocab items two and four are present in this image. This is known as *one-hot encoding*. The reason we can’t easily just use a list of category indices is that each list would be a different length, and PyTorch requires tensors, where everything has to be the same length."
      ]
    },
    {
      "cell_type": "markdown",
      "metadata": {
        "id": "JKvLa4fgd7wn"
      },
      "source": [
        "> jargon: One-hot encoding: Using a vector of zeros, with a one in each location that is represented in the data, to encode a list of integers."
      ]
    },
    {
      "cell_type": "markdown",
      "metadata": {
        "id": "76uGjPGJd7wn"
      },
      "source": [
        "Let’s check what the categories represent for this example (we are using the convenient `torch.where` function, which tells us all of the indices where our condition is true or false):"
      ]
    },
    {
      "cell_type": "code",
      "execution_count": null,
      "metadata": {
        "id": "DIQjV6l7d7wo",
        "outputId": "90af15d6-baa8-4a6a-99c0-90df6ab76c41"
      },
      "outputs": [
        {
          "data": {
            "text/plain": [
              "(#1) ['dog']"
            ]
          },
          "execution_count": null,
          "metadata": {},
          "output_type": "execute_result"
        }
      ],
      "source": [
        "idxs = torch.where(dsets.train[0][1]==1.)[0]\n",
        "dsets.train.vocab[idxs]"
      ]
    },
    {
      "cell_type": "markdown",
      "metadata": {
        "id": "3vyZmM6Jd7wo"
      },
      "source": [
        "With NumPy arrays, PyTorch tensors, and fastai’s `L` class, we can index directly using a list or vector, which makes a lot of code (such as this example) much clearer and more concise.\n",
        "\n",
        "We have ignored the column `is_valid` up until now, which means that `DataBlock` has been using a random split by default. To explicitly choose the elements of our validation set, we need to write a function and pass it to `splitter` (or use one of fastai's predefined functions or classes). It will take the items (here our whole DataFrame) and must return two (or more) lists of integers:"
      ]
    },
    {
      "cell_type": "code",
      "execution_count": null,
      "metadata": {
        "id": "Lo2UKboTd7wo",
        "outputId": "df022dbd-6aea-4bd5-c746-d9bef1239e1c"
      },
      "outputs": [
        {
          "data": {
            "text/plain": [
              "(PILImage mode=RGB size=500x333,\n",
              " TensorMultiCategory([0., 0., 0., 0., 0., 0., 1., 0., 0., 0., 0., 0., 0., 0., 0., 0., 0., 0., 0., 0.]))"
            ]
          },
          "execution_count": null,
          "metadata": {},
          "output_type": "execute_result"
        }
      ],
      "source": [
        "def splitter(df):\n",
        "    train = df.index[~df['is_valid']].tolist()\n",
        "    valid = df.index[df['is_valid']].tolist()\n",
        "    return train,valid\n",
        "\n",
        "dblock = DataBlock(blocks=(ImageBlock, MultiCategoryBlock),\n",
        "                   splitter=splitter,\n",
        "                   get_x=get_x, \n",
        "                   get_y=get_y)\n",
        "\n",
        "dsets = dblock.datasets(df)\n",
        "dsets.train[0]"
      ]
    },
    {
      "cell_type": "markdown",
      "metadata": {
        "id": "DGrI_sipd7wp"
      },
      "source": [
        "As we have discussed, a `DataLoader` collates the items from a `Dataset` into a mini-batch. This is a tuple of tensors, where each tensor simply stacks the items from that location in the `Dataset` item. \n",
        "\n",
        "Now that we have confirmed that the individual items look okay, there's one more step we need to ensure we can create our `DataLoaders`, which is to ensure that every item is of the same size. To do this, we can use `RandomResizedCrop`:"
      ]
    },
    {
      "cell_type": "code",
      "execution_count": null,
      "metadata": {
        "id": "8AthK-Svd7wp"
      },
      "outputs": [],
      "source": [
        "dblock = DataBlock(blocks=(ImageBlock, MultiCategoryBlock),\n",
        "                   splitter=splitter,\n",
        "                   get_x=get_x, \n",
        "                   get_y=get_y,\n",
        "                   item_tfms = RandomResizedCrop(128, min_scale=0.35))\n",
        "dls = dblock.dataloaders(df)"
      ]
    },
    {
      "cell_type": "markdown",
      "metadata": {
        "id": "vVqfkrOzd7wp"
      },
      "source": [
        "And now we can display a sample of our data:"
      ]
    },
    {
      "cell_type": "code",
      "execution_count": null,
      "metadata": {
        "id": "MCW1OvxLd7wp",
        "outputId": "32a91437-3bdf-44c2-b470-e13fa722a2be"
      },
      "outputs": [
        {
          "data": {
            "image/png": "[encoded data removed]",
            "text/plain": [
              "<Figure size 648x216 with 3 Axes>"
            ]
          },
          "metadata": {
            "needs_background": "light"
          },
          "output_type": "display_data"
        }
      ],
      "source": [
        "dls.show_batch(nrows=1, ncols=3)"
      ]
    },
    {
      "cell_type": "markdown",
      "metadata": {
        "id": "i52EOncvd7wq"
      },
      "source": [
        "Remember that if anything goes wrong when you create your `DataLoaders` from your `DataBlock`, or if you want to view exactly what happens with your `DataBlock`, you can use the `summary` method."
      ]
    },
    {
      "cell_type": "markdown",
      "metadata": {
        "id": "cxf0C4ymd7wq"
      },
      "source": [
        "Our data is now ready for training a model. As we will see, nothing is going to change when we create our `Learner`, but behind the scenes, the fastai library will pick a new loss function for us: binary cross-entropy."
      ]
    },
    {
      "cell_type": "markdown",
      "metadata": {
        "id": "iZUC6Hjud7wq"
      },
      "source": [
        "### Binary Cross-Entropy"
      ]
    },
    {
      "cell_type": "markdown",
      "metadata": {
        "id": "DWIvV2lkd7wq"
      },
      "source": [
        "Now we'll create our `Learner`. We saw in <<chapter_mnist_basics>> that a `Learner` object contains four main things: the model, a `DataLoaders` object, an `Optimizer`, and the loss function to use. We already have our `DataLoaders`, we can leverage fastai's `resnet` models (which we'll learn how to create from scratch later), and we know how to create an `SGD` optimizer. So let's focus on ensuring we have a suitable loss function. To do this, let's use `cnn_learner` to create a `Learner`, so we can look at its activations:"
      ]
    },
    {
      "cell_type": "code",
      "execution_count": null,
      "metadata": {
        "id": "Ke_Ia-FFd7wq"
      },
      "outputs": [],
      "source": [
        "learn = cnn_learner(dls, resnet18)"
      ]
    },
    {
      "cell_type": "markdown",
      "metadata": {
        "id": "h49P70Abd7wr"
      },
      "source": [
        "We also saw that the model in a `Learner` is generally an object of a class inheriting from `nn.Module`, and that we can call it using parentheses and it will return the activations of a model. You should pass it your independent variable, as a mini-batch. We can try it out by grabbing a mini batch from our `DataLoader` and then passing it to the model:"
      ]
    },
    {
      "cell_type": "code",
      "execution_count": null,
      "metadata": {
        "id": "TwQP9tfVd7wr",
        "outputId": "c2111173-3734-453b-f566-0f492ba841fe"
      },
      "outputs": [
        {
          "data": {
            "text/plain": [
              "torch.Size([64, 20])"
            ]
          },
          "execution_count": null,
          "metadata": {},
          "output_type": "execute_result"
        }
      ],
      "source": [
        "x,y = to_cpu(dls.train.one_batch())\n",
        "activs = learn.model(x)\n",
        "activs.shape"
      ]
    },
    {
      "cell_type": "markdown",
      "metadata": {
        "id": "hoEiJp5Id7wr"
      },
      "source": [
        "Think about why `activs` has this shape—we have a batch size of 64, and we need to calculate the probability of each of 20 categories. Here’s what one of those activations looks like:"
      ]
    },
    {
      "cell_type": "code",
      "execution_count": null,
      "metadata": {
        "id": "FS8_oVMmd7wr",
        "outputId": "e59ccd69-6d64-4f25-b94b-130f62796efe"
      },
      "outputs": [
        {
          "data": {
            "text/plain": [
              "TensorImage([ 0.7476, -1.1988,  4.5421, -1.5915, -0.6749,  0.0343, -2.4930, -0.8330, -0.3817, -1.4876, -0.1683,  2.1547, -3.4151, -1.1743,  0.1530, -1.6801, -2.3067,  0.7063, -1.3358, -0.3715],\n",
              "       grad_fn=<AliasBackward>)"
            ]
          },
          "execution_count": null,
          "metadata": {},
          "output_type": "execute_result"
        }
      ],
      "source": [
        "activs[0]"
      ]
    },
    {
      "cell_type": "markdown",
      "metadata": {
        "id": "aKkzScB2d7ws"
      },
      "source": [
        "> note: Getting Model Activations: Knowing how to manually get a mini-batch and pass it into a model, and look at the activations and loss, is really important for debugging your model. It is also very helpful for learning, so that you can see exactly what is going on."
      ]
    },
    {
      "cell_type": "markdown",
      "metadata": {
        "id": "dkg563aid7ws"
      },
      "source": [
        "They aren’t yet scaled to between 0 and 1, but we learned how to do that in <<chapter_mnist_basics>>, using the `sigmoid` function. We also saw how to calculate a loss based on this—this is our loss function from <<chapter_mnist_basics>>, with the addition of `log` as discussed in the last chapter:"
      ]
    },
    {
      "cell_type": "code",
      "execution_count": null,
      "metadata": {
        "id": "w-IjEf2fd7ws"
      },
      "outputs": [],
      "source": [
        "def binary_cross_entropy(inputs, targets):\n",
        "    inputs = inputs.sigmoid()\n",
        "    return -torch.where(targets==1, 1-inputs, inputs).log().mean()"
      ]
    },
    {
      "cell_type": "markdown",
      "metadata": {
        "id": "CATqqeyNd7ws"
      },
      "source": [
        "Note that because we have a one-hot-encoded dependent variable, we can't directly use `nll_loss` or `softmax` (and therefore we can't use `cross_entropy`):\n",
        "\n",
        "- `softmax`, as we saw, requires that all predictions sum to 1, and tends to push one activation to be much larger than the others (due to the use of `exp`); however, we may well have multiple objects that we're confident appear in an image, so restricting the maximum sum of activations to 1 is not a good idea. By the same reasoning, we may want the sum to be *less* than 1, if we don't think *any* of the categories appear in an image.\n",
        "- `nll_loss`, as we saw, returns the value of just one activation: the single activation corresponding with the single label for an item. This doesn't make sense when we have multiple labels.\n",
        "\n",
        "On the other hand, the `binary_cross_entropy` function, which is just `mnist_loss` along with `log`, provides just what we need, thanks to the magic of PyTorch's elementwise operations. Each activation will be compared to each target for each column, so we don't have to do anything to make this function work for multiple columns."
      ]
    },
    {
      "cell_type": "markdown",
      "metadata": {
        "id": "B1-x4TsTd7wt"
      },
      "source": [
        "> j: One of the things I really like about working with libraries like PyTorch, with broadcasting and elementwise operations, is that quite frequently I find I can write code that works equally well for a single item or a batch of items, without changes. `binary_cross_entropy` is a great example of this. By using these operations, we don't have to write loops ourselves, and can rely on PyTorch to do the looping we need as appropriate for the rank of the tensors we're working with."
      ]
    },
    {
      "cell_type": "markdown",
      "metadata": {
        "id": "b-AjuuUed7wt"
      },
      "source": [
        "PyTorch already provides this function for us. In fact, it provides a number of versions, with rather confusing names!\n",
        "\n",
        "`F.binary_cross_entropy` and its module equivalent `nn.BCELoss` calculate cross-entropy on a one-hot-encoded target, but do not include the initial `sigmoid`. Normally for one-hot-encoded targets you'll want `F.binary_cross_entropy_with_logits` (or `nn.BCEWithLogitsLoss`), which do both sigmoid and binary cross-entropy in a single function, as in the preceding example.\n",
        "\n",
        "The equivalent for single-label datasets (like MNIST or the Pet dataset), where the target is encoded as a single integer, is `F.nll_loss` or `nn.NLLLoss` for the version without the initial softmax, and `F.cross_entropy` or `nn.CrossEntropyLoss` for the version with the initial softmax.\n",
        "\n",
        "Since we have a one-hot-encoded target, we will use `BCEWithLogitsLoss`:"
      ]
    },
    {
      "cell_type": "code",
      "execution_count": null,
      "metadata": {
        "id": "ZhftaZbBd7wt",
        "outputId": "3951fb86-5174-4a77-d0c1-992ec92e2b91"
      },
      "outputs": [
        {
          "data": {
            "text/plain": [
              "TensorImage(1.0342, grad_fn=<AliasBackward>)"
            ]
          },
          "execution_count": null,
          "metadata": {},
          "output_type": "execute_result"
        }
      ],
      "source": [
        "loss_func = nn.BCEWithLogitsLoss()\n",
        "loss = loss_func(activs, y)\n",
        "loss"
      ]
    },
    {
      "cell_type": "markdown",
      "metadata": {
        "id": "Wvv8LuMNd7wt"
      },
      "source": [
        "We don't actually need to tell fastai to use this loss function (although we can if we want) since it will be automatically chosen for us. fastai knows that the `DataLoaders` has multiple category labels, so it will use `nn.BCEWithLogitsLoss` by default.\n",
        "\n",
        "One change compared to the last chapter is the metric we use: because this is a multilabel problem, we can't use the accuracy function. Why is that? Well, accuracy was comparing our outputs to our targets like so:\n",
        "\n",
        "```python\n",
        "def accuracy(inp, targ, axis=-1):\n",
        "    \"Compute accuracy with `targ` when `pred` is bs * n_classes\"\n",
        "    pred = inp.argmax(dim=axis)\n",
        "    return (pred == targ).float().mean()\n",
        "```\n",
        "\n",
        "The class predicted was the one with the highest activation (this is what `argmax` does). Here it doesn't work because we could have more than one prediction on a single image. After applying the sigmoid to our activations (to make them between 0 and 1), we need to decide which ones are 0s and which ones are 1s by picking a *threshold*. Each value above the threshold will be considered as a 1, and each value lower than the threshold will be considered a 0:\n",
        "\n",
        "```python\n",
        "def accuracy_multi(inp, targ, thresh=0.5, sigmoid=True):\n",
        "    \"Compute accuracy when `inp` and `targ` are the same size.\"\n",
        "    if sigmoid: inp = inp.sigmoid()\n",
        "    return ((inp>thresh)==targ.bool()).float().mean()\n",
        "```"
      ]
    },
    {
      "cell_type": "markdown",
      "metadata": {
        "id": "6B7MLT2vd7wu"
      },
      "source": [
        "If we pass `accuracy_multi` directly as a metric, it will use the default value for `threshold`, which is 0.5. We might want to adjust that default and create a new version of `accuracy_multi` that has a different default. To help with this, there is a function in Python called `partial`. It allows us to *bind* a function with some arguments or keyword arguments, making a new version of that function that, whenever it is called, always includes those arguments. For instance, here is a simple function taking two arguments:"
      ]
    },
    {
      "cell_type": "code",
      "execution_count": null,
      "metadata": {
        "id": "Cm6xQ9Lbd7wu",
        "outputId": "ec6cb231-e151-472d-965c-3a005fbaee05"
      },
      "outputs": [
        {
          "data": {
            "text/plain": [
              "('Hello Jeremy.', 'Ahoy! Jeremy.')"
            ]
          },
          "execution_count": null,
          "metadata": {},
          "output_type": "execute_result"
        }
      ],
      "source": [
        "def say_hello(name, say_what=\"Hello\"): return f\"{say_what} {name}.\"\n",
        "say_hello('Sajid'),say_hello('Sajid', 'Ahoy!')"
      ]
    },
    {
      "cell_type": "markdown",
      "metadata": {
        "id": "qSjhPd2fd7wu"
      },
      "source": [
        "We can switch to a French version of that function by using `partial`:"
      ]
    },
    {
      "cell_type": "code",
      "execution_count": null,
      "metadata": {
        "id": "OHs-mAxDd7w1",
        "outputId": "0d8e58a7-3394-486e-9c5a-055127d48f01"
      },
      "outputs": [
        {
          "data": {
            "text/plain": [
              "('Bonjour Jeremy.', 'Bonjour Sylvain.')"
            ]
          },
          "execution_count": null,
          "metadata": {},
          "output_type": "execute_result"
        }
      ],
      "source": [
        "f = partial(say_hello, say_what=\"Bonjour\")\n",
        "f(\"Jeremy\"),f(\"Sylvain\")"
      ]
    },
    {
      "cell_type": "markdown",
      "metadata": {
        "id": "jUFq4wjyd7w1"
      },
      "source": [
        "We can now train our model. Let's try setting the accuracy threshold to 0.2 for our metric:"
      ]
    },
    {
      "cell_type": "code",
      "execution_count": null,
      "metadata": {
        "id": "RbyjcjTvd7w1",
        "outputId": "c3882f13-f99e-4885-a17e-989f62aff787"
      },
      "outputs": [
        {
          "data": {
            "text/html": [
              "<table border=\"1\" class=\"dataframe\">\n",
              "  <thead>\n",
              "    <tr style=\"text-align: left;\">\n",
              "      <th>epoch</th>\n",
              "      <th>train_loss</th>\n",
              "      <th>valid_loss</th>\n",
              "      <th>accuracy_multi</th>\n",
              "      <th>time</th>\n",
              "    </tr>\n",
              "  </thead>\n",
              "  <tbody>\n",
              "    <tr>\n",
              "      <td>0</td>\n",
              "      <td>0.942663</td>\n",
              "      <td>0.703737</td>\n",
              "      <td>0.233307</td>\n",
              "      <td>00:08</td>\n",
              "    </tr>\n",
              "    <tr>\n",
              "      <td>1</td>\n",
              "      <td>0.821548</td>\n",
              "      <td>0.550827</td>\n",
              "      <td>0.295319</td>\n",
              "      <td>00:08</td>\n",
              "    </tr>\n",
              "    <tr>\n",
              "      <td>2</td>\n",
              "      <td>0.604189</td>\n",
              "      <td>0.202585</td>\n",
              "      <td>0.816474</td>\n",
              "      <td>00:08</td>\n",
              "    </tr>\n",
              "    <tr>\n",
              "      <td>3</td>\n",
              "      <td>0.359258</td>\n",
              "      <td>0.123299</td>\n",
              "      <td>0.944283</td>\n",
              "      <td>00:08</td>\n",
              "    </tr>\n",
              "  </tbody>\n",
              "</table>"
            ],
            "text/plain": [
              "<IPython.core.display.HTML object>"
            ]
          },
          "metadata": {},
          "output_type": "display_data"
        },
        {
          "data": {
            "text/html": [
              "<table border=\"1\" class=\"dataframe\">\n",
              "  <thead>\n",
              "    <tr style=\"text-align: left;\">\n",
              "      <th>epoch</th>\n",
              "      <th>train_loss</th>\n",
              "      <th>valid_loss</th>\n",
              "      <th>accuracy_multi</th>\n",
              "      <th>time</th>\n",
              "    </tr>\n",
              "  </thead>\n",
              "  <tbody>\n",
              "    <tr>\n",
              "      <td>0</td>\n",
              "      <td>0.135746</td>\n",
              "      <td>0.123404</td>\n",
              "      <td>0.944442</td>\n",
              "      <td>00:09</td>\n",
              "    </tr>\n",
              "    <tr>\n",
              "      <td>1</td>\n",
              "      <td>0.118443</td>\n",
              "      <td>0.107534</td>\n",
              "      <td>0.951255</td>\n",
              "      <td>00:09</td>\n",
              "    </tr>\n",
              "    <tr>\n",
              "      <td>2</td>\n",
              "      <td>0.098525</td>\n",
              "      <td>0.104778</td>\n",
              "      <td>0.951554</td>\n",
              "      <td>00:10</td>\n",
              "    </tr>\n",
              "  </tbody>\n",
              "</table>"
            ],
            "text/plain": [
              "<IPython.core.display.HTML object>"
            ]
          },
          "metadata": {},
          "output_type": "display_data"
        }
      ],
      "source": [
        "learn = cnn_learner(dls, resnet50, metrics=partial(accuracy_multi, thresh=0.2))\n",
        "learn.fine_tune(3, base_lr=3e-3, freeze_epochs=4)"
      ]
    },
    {
      "cell_type": "markdown",
      "metadata": {
        "id": "JJUT68XId7w2"
      },
      "source": [
        "Picking a threshold is important. If you pick a threshold that's too low, you'll often be failing to select correctly labeled objects. We can see this by changing our metric, and then calling `validate`, which returns the validation loss and metrics:"
      ]
    },
    {
      "cell_type": "code",
      "execution_count": null,
      "metadata": {
        "id": "mFuXgvHFd7w2",
        "outputId": "a2d5959b-07b3-4a04-a51d-010d9591e276"
      },
      "outputs": [
        {
          "data": {
            "text/html": [],
            "text/plain": [
              "<IPython.core.display.HTML object>"
            ]
          },
          "metadata": {},
          "output_type": "display_data"
        },
        {
          "data": {
            "text/plain": [
              "(#2) [0.10477833449840546,0.9314740300178528]"
            ]
          },
          "execution_count": null,
          "metadata": {},
          "output_type": "execute_result"
        }
      ],
      "source": [
        "learn.metrics = partial(accuracy_multi, thresh=0.1)\n",
        "learn.validate()"
      ]
    },
    {
      "cell_type": "markdown",
      "metadata": {
        "id": "B0C-_xndd7w2"
      },
      "source": [
        "If you pick a threshold that's too high, you'll only be selecting the objects for which your model is very confident:"
      ]
    },
    {
      "cell_type": "code",
      "execution_count": null,
      "metadata": {
        "id": "Ra-b8SAod7w2",
        "outputId": "44d6031e-6d86-4bea-ed8c-1a1a3a7e39a4"
      },
      "outputs": [
        {
          "data": {
            "text/html": [],
            "text/plain": [
              "<IPython.core.display.HTML object>"
            ]
          },
          "metadata": {},
          "output_type": "display_data"
        },
        {
          "data": {
            "text/plain": [
              "(#2) [0.10477833449840546,0.9429482221603394]"
            ]
          },
          "execution_count": null,
          "metadata": {},
          "output_type": "execute_result"
        }
      ],
      "source": [
        "learn.metrics = partial(accuracy_multi, thresh=0.99)\n",
        "learn.validate()"
      ]
    },
    {
      "cell_type": "markdown",
      "metadata": {
        "id": "hlBqcOjEd7w3"
      },
      "source": [
        "We can find the best threshold by trying a few levels and seeing what works best. This is much faster if we just grab the predictions once:"
      ]
    },
    {
      "cell_type": "code",
      "execution_count": null,
      "metadata": {
        "id": "yPEj8UoId7w3",
        "outputId": "39e73731-a7dc-4d70-eac3-fe89a6a939f7"
      },
      "outputs": [
        {
          "data": {
            "text/html": [],
            "text/plain": [
              "<IPython.core.display.HTML object>"
            ]
          },
          "metadata": {},
          "output_type": "display_data"
        }
      ],
      "source": [
        "preds,targs = learn.get_preds()"
      ]
    },
    {
      "cell_type": "markdown",
      "metadata": {
        "id": "YmWSU1s1d7w3"
      },
      "source": [
        "Then we can call the metric directly. Note that by default `get_preds` applies the output activation function (sigmoid, in this case) for us, so we'll need to tell `accuracy_multi` to not apply it:"
      ]
    },
    {
      "cell_type": "code",
      "execution_count": null,
      "metadata": {
        "id": "9WKnWfcZd7w3",
        "outputId": "822c3758-5295-4c86-a004-95470eb19620"
      },
      "outputs": [
        {
          "data": {
            "text/plain": [
              "TensorImage(0.9567)"
            ]
          },
          "execution_count": null,
          "metadata": {},
          "output_type": "execute_result"
        }
      ],
      "source": [
        "accuracy_multi(preds, targs, thresh=0.9, sigmoid=False)"
      ]
    },
    {
      "cell_type": "markdown",
      "metadata": {
        "id": "3Fk25vcWd7w4"
      },
      "source": [
        "We can now use this approach to find the best threshold level:"
      ]
    },
    {
      "cell_type": "code",
      "execution_count": null,
      "metadata": {
        "id": "2TYmkxmLd7w4",
        "outputId": "903c2343-e5f8-4cf5-cc76-5a4350376482"
      },
      "outputs": [
        {
          "data": {
            "image/png": "[encoded data removed]",
            "text/plain": [
              "<Figure size 432x288 with 1 Axes>"
            ]
          },
          "metadata": {
            "needs_background": "light"
          },
          "output_type": "display_data"
        }
      ],
      "source": [
        "xs = torch.linspace(0.05,0.95,29)\n",
        "accs = [accuracy_multi(preds, targs, thresh=i, sigmoid=False) for i in xs]\n",
        "plt.plot(xs,accs);"
      ]
    },
    {
      "cell_type": "markdown",
      "metadata": {
        "id": "DxFx0Oy0d7w4"
      },
      "source": [
        "In this case, we're using the validation set to pick a hyperparameter (the threshold), which is the purpose of the validation set. Sometimes students have expressed their concern that we might be *overfitting* to the validation set, since we're trying lots of values to see which is the best. However, as you see in the plot, changing the threshold in this case results in a smooth curve, so we're clearly not picking some inappropriate outlier. This is a good example of where you have to be careful of the difference between theory (don't try lots of hyperparameter values or you might overfit the validation set) versus practice (if the relationship is smooth, then it's fine to do this).\n",
        "\n",
        "This concludes the part of this chapter dedicated to multi-label classification. Next, we'll take a look at a regression problem."
      ]
    },
    {
      "cell_type": "markdown",
      "metadata": {
        "id": "eg4akTJkd7xP"
      },
      "source": [
        "## Conclusion"
      ]
    },
    {
      "cell_type": "markdown",
      "metadata": {
        "id": "JeWgo59ad7xP"
      },
      "source": [
        "In problems that are at first glance completely different (single-label classification, multi-label classification, and regression), we end up using the same model with just different numbers of outputs. The loss function is the one thing that changes, which is why it's important to double-check that you are using the right loss function for your problem.\n",
        "\n",
        "fastai will automatically try to pick the right one from the data you built, but if you are using pure PyTorch to build your `DataLoader`s, make sure you think hard when you have to decide on your choice of loss function, and remember that you most probably want:\n",
        "\n",
        "- `nn.CrossEntropyLoss` for single-label classification\n",
        "- `nn.BCEWithLogitsLoss` for multi-label classification\n",
        "- `nn.MSELoss` for regression"
      ]
    },
    {
      "cell_type": "markdown",
      "metadata": {
        "id": "lI-d_HVtd7xP"
      },
      "source": [
        "## Questionnaire"
      ]
    },
    {
      "cell_type": "markdown",
      "metadata": {
        "id": "_-jJdPOPd7xP"
      },
      "source": [
        "1. How could multi-label classification improve the usability of the bear classifier?\n",
        "1. How do we encode the dependent variable in a multi-label classification problem?\n",
        "1. How do you access the rows and columns of a DataFrame as if it was a matrix?\n",
        "1. How do you get a column by name from a DataFrame?\n",
        "1. What is the difference between a `Dataset` and `DataLoader`?\n",
        "1. What does a `Datasets` object normally contain?\n",
        "1. What does a `DataLoaders` object normally contain?\n",
        "1. What does `lambda` do in Python?\n",
        "1. What are the methods to customize how the independent and dependent variables are created with the data block API?\n",
        "1. Why is softmax not an appropriate output activation function when using a one hot encoded target?\n",
        "1. Why can't we use regular accuracy in a multi-label problem?\n",
        "1. When is it okay to tune a hyperparameter on the validation set?\n",
        "1. How is `y_range` implemented in fastai? (See if you can implement it yourself and test it without peeking!)\n",
        "1. What do you need to do to make sure the fastai library applies the same data augmentation to your input images and your target point coordinates?"
      ]
    },
    {
      "cell_type": "markdown",
      "metadata": {
        "id": "VV8tMkyed7xP"
      },
      "source": [
        "### Further Research"
      ]
    },
    {
      "cell_type": "markdown",
      "metadata": {
        "id": "GiFJWvobd7xQ"
      },
      "source": [
        "1. Read a tutorial about Pandas DataFrames and experiment with a few methods that look interesting to you. See the book's website for recommended tutorials.\n",
        "1. Retrain the bear classifier using multi-label classification. See if you can make it work effectively with images that don't contain any bears, including showing that information in the web application. Try an image with two different kinds of bears. Check whether the accuracy on the single-label dataset is impacted using multi-label classification."
      ]
    },
    {
      "cell_type": "code",
      "execution_count": null,
      "metadata": {
        "id": "l7xM2W8-d7xQ"
      },
      "outputs": [],
      "source": [
        ""
      ]
    }
  ],
  "metadata": {
    "jupytext": {
      "split_at_heading": true
    },
    "kernelspec": {
      "display_name": "Python 3",
      "language": "python",
      "name": "python3"
    },
    "colab": {
      "name": "06_multicat.ipynb",
      "provenance": []
    }
  },
  "nbformat": 4,
  "nbformat_minor": 0
}